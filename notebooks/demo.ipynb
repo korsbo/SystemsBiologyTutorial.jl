{
 "cells": [
  {
   "cell_type": "code",
   "execution_count": null,
   "metadata": {},
   "outputs": [],
   "source": [
    "using DifferentialEquations\n",
    "using Interact\n",
    "using Plots\n",
    "using Latexify"
   ]
  },
  {
   "cell_type": "code",
   "execution_count": null,
   "metadata": {},
   "outputs": [],
   "source": [
    "function plot_sim(ode, u0, p)\n",
    "    prob = ODEProblem(ode, u0, (0.,10.), p)\n",
    "    sol = solve(prob, Rosenbrock23())\n",
    "    plot(sol)\n",
    "end\n",
    "\n",
    "function iplot(ode)\n",
    "    n_params = length(ode.params)\n",
    "    n_vars = length(ode.syms)\n",
    "    params = [vselection_slider(signif.(logspace(-3,3,201),3), label=latexify(p)) for p in ode.params]\n",
    "    u0 = [vselection_slider(signif.(logspace(-3,3,201),3), label=latexify(p)) for p in ode.syms]\n",
    "    display(hbox(params...))\n",
    "    display(hbox(u0...))\n",
    "    map((x...) -> plot_sim(ode, collect(x[1:n_vars]), collect(x[n_vars+1:end])),\n",
    "        signal.(u0)..., signal.(params)...\n",
    "    )\n",
    "end"
   ]
  },
  {
   "cell_type": "code",
   "execution_count": null,
   "metadata": {},
   "outputs": [],
   "source": [
    "ode = @reaction_network Demo1 begin\n",
    "    (p, d), 0 ↔ x\n",
    "end p d"
   ]
  },
  {
   "cell_type": "code",
   "execution_count": null,
   "metadata": {},
   "outputs": [],
   "source": [
    "iplot(ode)"
   ]
  },
  {
   "cell_type": "code",
   "execution_count": null,
   "metadata": {},
   "outputs": [],
   "source": []
  }
 ],
 "metadata": {},
 "nbformat": 4,
 "nbformat_minor": 2
}
