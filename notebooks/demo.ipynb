{
 "cells": [
  {
   "cell_type": "markdown",
   "metadata": {},
   "source": [
    "# Production, degradation and equilibration. \n",
    "\n",
    "Here, we will explore the processes of production and degradation of a molecule. We will model this using Ordinary Differential Equations, and we will see how the processes of production and degradation must be balanced in order for a system be able to reach an equilibrium. "
   ]
  },
  {
   "cell_type": "markdown",
   "metadata": {},
   "source": [
    "## Technical preamble\n",
    "The document that you are reading allows for execution of code. We authors will make heavy use of this. But since we are not trying to teach you programming, but rather systems biology, we will try to hide that code as much as possible from you. \n",
    "\n",
    "However, in order for our examples to run, we need to set up the system. This we do here, in the technical preamble. You do not have to understand what that code is doing, you just need to excecute it.\n",
    "\n",
    "To run the preamble, mark the code cell below and press Ctrl+Enter"
   ]
  },
  {
   "cell_type": "code",
   "execution_count": null,
   "metadata": {},
   "outputs": [],
   "source": [
    "using DifferentialEquations\n",
    "using Interact\n",
    "using Plots\n",
    "using Latexify\n",
    "\n",
    "plot_sim(ode::ProductionDemoType, args...) = plot_sim(ode, args...; ylims=(0., 10.), xlims=(0., 10.))\n",
    "function plot_sim(ode, u0, p; ylims=(Inf, Inf), xlims=(Inf, Inf))\n",
    "    prob = ODEProblem(ode, u0, (0.,10.), p)\n",
    "    sol = solve(prob, Tsit5())\n",
    "    plot(sol; ylabel=\"Concentration\", xlabel=\"Time\", ylims=ylims, xlims=xlims)\n",
    "end\n",
    "\n",
    "function iplot(ode; kwargs...)\n",
    "    display(latexify(ode))\n",
    "    n_params = length(ode.params)\n",
    "    n_vars = length(ode.syms)\n",
    "    params = [vselection_slider(signif.(logspace(-3,3,201),3), label=latexify(p)) for p in ode.params]\n",
    "    u0 = [vselection_slider(signif.([0.; logspace(-3,3,201)],3), value=0., label=latexify(\"$(p)_0\")) for p in ode.syms]\n",
    "    display(hbox(params..., u0...))\n",
    "    foreach((x...) -> plot_sim(ode, collect(x[1:n_vars]), collect(x[n_vars+1:end]); kwargs...),\n",
    "        signal.(u0)..., signal.(params)...\n",
    "    )\n",
    "end"
   ]
  },
  {
   "cell_type": "markdown",
   "metadata": {},
   "source": [
    "## The simplest model of production\n",
    "The simples way to model production would be to say that we have some molecular factory which churns out a molecule at a constant rate. If that rate is $1$ molecule/second, then every second, a new molecule would be created. Simple. \n",
    "\n",
    "We will now try our hands on a bit of computational modelling. We will be using something called a Domain-Specific Language. The DSL that we will be using is a language which allows you to input chemical reactions in an arrow notation. \n",
    "\n",
    "To model a simple production using this language, we enter:\n"
   ]
  },
  {
   "cell_type": "code",
   "execution_count": null,
   "metadata": {},
   "outputs": [],
   "source": [
    "production = @reaction_network ProductionDemoType begin\n",
    "    p, 0 → x\n",
    "end p"
   ]
  },
  {
   "cell_type": "markdown",
   "metadata": {},
   "source": [
    "We will pick this language apart later, but for now, let's be content with saying that the species $x$ is being produced (from nothing) at a rate $p$.\n",
    "\n",
    "We can simulate this model to see what happens to the concentration of $x$ over time. To do so, we have created a function called `iplot`. By passing the model as an argument to this function, we can plot the concentration over time and also use interactive sliders to update the value of the parameter $p$ as well as the initial concentration of $x$.\n",
    "\n",
    "Click on the next cell and press Ctrl+Enter."
   ]
  },
  {
   "cell_type": "code",
   "execution_count": null,
   "metadata": {},
   "outputs": [],
   "source": [
    "iplot(production)"
   ]
  },
  {
   "cell_type": "markdown",
   "metadata": {},
   "source": [
    "Here, we see that the concentration of $x$ increases linearly over time. We also see that the production parameter, $p$, determines the slope of the curve. \n",
    "\n",
    "So, for any given interval of time, $\\Delta t$, we increase the concentration of $x$ by $\\Delta t \\cdot p$. "
   ]
  },
  {
   "cell_type": "markdown",
   "metadata": {},
   "source": [
    "## The simplest form of degradation (?)"
   ]
  },
  {
   "cell_type": "code",
   "execution_count": null,
   "metadata": {},
   "outputs": [],
   "source": [
    "degradation = @reaction_network DegradationDemo begin\n",
    "     d, x → 0 \n",
    "end d"
   ]
  },
  {
   "cell_type": "code",
   "execution_count": null,
   "metadata": {},
   "outputs": [],
   "source": [
    "iplot(degradation)"
   ]
  },
  {
   "cell_type": "markdown",
   "metadata": {},
   "source": [
    "## Balancing production and degradation"
   ]
  },
  {
   "cell_type": "code",
   "execution_count": null,
   "metadata": {},
   "outputs": [],
   "source": [
    "prodDeg = @reaction_network ProdDegDemo begin\n",
    "    p, 0 → x\n",
    "    d, x → 0 \n",
    "end p d"
   ]
  },
  {
   "cell_type": "code",
   "execution_count": null,
   "metadata": {},
   "outputs": [],
   "source": [
    "iplot(prodDeg)"
   ]
  },
  {
   "cell_type": "code",
   "execution_count": null,
   "metadata": {},
   "outputs": [],
   "source": []
  }
 ],
 "metadata": {},
 "nbformat": 4,
 "nbformat_minor": 2
}
